{
  "cells": [
    {
      "cell_type": "markdown",
      "id": "title-cell",
      "metadata": {
        "id": "title-cell"
      },
      "source": [
        "# NewV3 Student Fairness NetArch1"
      ]
    },
    {
      "cell_type": "code",
      "execution_count": null,
      "id": "vEx3Eg3NSvGV",
      "metadata": {
        "colab": {
          "base_uri": "https://localhost:8080/"
        },
        "id": "vEx3Eg3NSvGV",
        "outputId": "59fa877e-c36e-47a3-be09-c2ce2359257e"
      },
      "outputs": [
        {
          "output_type": "stream",
          "name": "stdout",
          "text": [
            "Collecting ucimlrepo\n",
            "  Downloading ucimlrepo-0.0.7-py3-none-any.whl.metadata (5.5 kB)\n",
            "Requirement already satisfied: pandas>=1.0.0 in /usr/local/lib/python3.11/dist-packages (from ucimlrepo) (2.2.2)\n",
            "Requirement already satisfied: certifi>=2020.12.5 in /usr/local/lib/python3.11/dist-packages (from ucimlrepo) (2025.4.26)\n",
            "Requirement already satisfied: numpy>=1.23.2 in /usr/local/lib/python3.11/dist-packages (from pandas>=1.0.0->ucimlrepo) (2.0.2)\n",
            "Requirement already satisfied: python-dateutil>=2.8.2 in /usr/local/lib/python3.11/dist-packages (from pandas>=1.0.0->ucimlrepo) (2.9.0.post0)\n",
            "Requirement already satisfied: pytz>=2020.1 in /usr/local/lib/python3.11/dist-packages (from pandas>=1.0.0->ucimlrepo) (2025.2)\n",
            "Requirement already satisfied: tzdata>=2022.7 in /usr/local/lib/python3.11/dist-packages (from pandas>=1.0.0->ucimlrepo) (2025.2)\n",
            "Requirement already satisfied: six>=1.5 in /usr/local/lib/python3.11/dist-packages (from python-dateutil>=2.8.2->pandas>=1.0.0->ucimlrepo) (1.17.0)\n",
            "Downloading ucimlrepo-0.0.7-py3-none-any.whl (8.0 kB)\n",
            "Installing collected packages: ucimlrepo\n",
            "Successfully installed ucimlrepo-0.0.7\n",
            "Collecting fairlearn\n",
            "  Downloading fairlearn-0.12.0-py3-none-any.whl.metadata (7.0 kB)\n",
            "Requirement already satisfied: numpy>=1.24.4 in /usr/local/lib/python3.11/dist-packages (from fairlearn) (2.0.2)\n",
            "Requirement already satisfied: pandas>=2.0.3 in /usr/local/lib/python3.11/dist-packages (from fairlearn) (2.2.2)\n",
            "Requirement already satisfied: scikit-learn>=1.2.1 in /usr/local/lib/python3.11/dist-packages (from fairlearn) (1.6.1)\n",
            "Requirement already satisfied: scipy>=1.9.3 in /usr/local/lib/python3.11/dist-packages (from fairlearn) (1.15.3)\n",
            "Requirement already satisfied: python-dateutil>=2.8.2 in /usr/local/lib/python3.11/dist-packages (from pandas>=2.0.3->fairlearn) (2.9.0.post0)\n",
            "Requirement already satisfied: pytz>=2020.1 in /usr/local/lib/python3.11/dist-packages (from pandas>=2.0.3->fairlearn) (2025.2)\n",
            "Requirement already satisfied: tzdata>=2022.7 in /usr/local/lib/python3.11/dist-packages (from pandas>=2.0.3->fairlearn) (2025.2)\n",
            "Requirement already satisfied: joblib>=1.2.0 in /usr/local/lib/python3.11/dist-packages (from scikit-learn>=1.2.1->fairlearn) (1.5.1)\n",
            "Requirement already satisfied: threadpoolctl>=3.1.0 in /usr/local/lib/python3.11/dist-packages (from scikit-learn>=1.2.1->fairlearn) (3.6.0)\n",
            "Requirement already satisfied: six>=1.5 in /usr/local/lib/python3.11/dist-packages (from python-dateutil>=2.8.2->pandas>=2.0.3->fairlearn) (1.17.0)\n",
            "Downloading fairlearn-0.12.0-py3-none-any.whl (240 kB)\n",
            "\u001b[2K   \u001b[90m━━━━━━━━━━━━━━━━━━━━━━━━━━━━━━━━━━━━━━━━\u001b[0m \u001b[32m240.0/240.0 kB\u001b[0m \u001b[31m2.7 MB/s\u001b[0m eta \u001b[36m0:00:00\u001b[0m\n",
            "\u001b[?25hInstalling collected packages: fairlearn\n",
            "Successfully installed fairlearn-0.12.0\n"
          ]
        }
      ],
      "source": [
        "!pip install ucimlrepo\n",
        "!pip install fairlearn\n",
        "import torch\n",
        "import torch.nn as nn\n",
        "import torch.nn.functional as F\n",
        "import torch.optim as optim\n",
        "from torch.quantization import quantize_dynamic, QConfig, prepare_qat, convert\n",
        "from torch.quantization.fake_quantize import FakeQuantize\n",
        "from torch.quantization.observer import MovingAverageMinMaxObserver\n",
        "from torch.utils.data import Dataset, DataLoader, TensorDataset\n",
        "from sklearn.model_selection import train_test_split, KFold\n",
        "from sklearn.metrics import accuracy_score, matthews_corrcoef, f1_score\n",
        "from sklearn.preprocessing import StandardScaler, LabelEncoder\n",
        "from ucimlrepo import fetch_ucirepo\n",
        "from fairlearn.metrics import MetricFrame\n",
        "import pandas as pd\n",
        "import numpy as np\n",
        "import random\n",
        "import matplotlib.pyplot as plt\n",
        "from fairlearn.metrics import (\n",
        "    MetricFrame,\n",
        "    selection_rate,\n",
        "    true_positive_rate,\n",
        "    false_positive_rate\n",
        ")"
      ]
    },
    {
      "cell_type": "markdown",
      "id": "vdzwMJ6cmP8H",
      "metadata": {
        "id": "vdzwMJ6cmP8H"
      },
      "source": [
        "##Code Persistence"
      ]
    },
    {
      "cell_type": "code",
      "execution_count": null,
      "id": "ENXhqplymOew",
      "metadata": {
        "id": "ENXhqplymOew"
      },
      "outputs": [],
      "source": [
        "def save_model(model, model_path):\n",
        "  torch.save(model.state_dict(), model_path)\n",
        "\"\"\"\n",
        "def save_values_to_txt(data, filename):\n",
        "  with open(filename, 'a') as f:\n",
        "      for entry in data:\n",
        "          for key, value in entry.items():\n",
        "              f.write(f'{key}: {value}\\n')\n",
        "          f.write('\\n')\n",
        "  print(f\"Data appended to {filename}\")\n",
        "\"\"\"\n",
        "def save_values_to_txt(data, filename):\n",
        "    if isinstance(data, dict):\n",
        "        data = [data]\n",
        "    with open(filename, 'a') as f:\n",
        "        for entry in data:\n",
        "            for key, value in entry.items():\n",
        "                f.write(f'{key}: {value}\\n')\n",
        "            f.write('\\n')\n",
        "    print(f\"Data appended to {filename}\")"
      ]
    },
    {
      "cell_type": "code",
      "execution_count": null,
      "id": "imports-seed",
      "metadata": {
        "id": "imports-seed"
      },
      "outputs": [],
      "source": [
        "random.seed(42)\n",
        "np.random.seed(42)"
      ]
    },
    {
      "cell_type": "markdown",
      "id": "oetFnOHYlXpQ",
      "metadata": {
        "id": "oetFnOHYlXpQ"
      },
      "source": [
        "### Data Loading"
      ]
    },
    {
      "cell_type": "code",
      "execution_count": null,
      "id": "data-loading",
      "metadata": {
        "id": "data-loading",
        "colab": {
          "base_uri": "https://localhost:8080/"
        },
        "outputId": "8aaae2f2-a3b2-424b-a5a0-4056a6aa9d9d"
      },
      "outputs": [
        {
          "output_type": "stream",
          "name": "stdout",
          "text": [
            "649\n",
            "sex\n",
            "F    383\n",
            "M    266\n",
            "Name: count, dtype: int64\n"
          ]
        }
      ],
      "source": [
        "def load_your_dataset():\n",
        "    # fetch dataset\n",
        "    student = fetch_ucirepo(id=320)\n",
        "\n",
        "    X = student.data.features\n",
        "    y = student.data.targets.G3\n",
        "    y = (y > 10).astype(int)\n",
        "    le = LabelEncoder()\n",
        "    y = le.fit_transform(y.values.ravel())  # e.g. 0 or 1\n",
        "\n",
        "    X_np = X.values\n",
        "    y_np = y\n",
        "\n",
        "    X_dummies = pd.get_dummies(X, drop_first=True)\n",
        "\n",
        "    scaler = StandardScaler()\n",
        "    X_np = scaler.fit_transform(X_dummies)\n",
        "\n",
        "\n",
        "    A_np = X[\"sex\"].values\n",
        "    print(A_np.size)\n",
        "    print(X[\"sex\"].value_counts())\n",
        "\n",
        "    return X_np, y_np, A_np\n",
        "\n",
        "X_np, y_np, A_np = load_your_dataset()"
      ]
    },
    {
      "cell_type": "markdown",
      "id": "qGy0GFfwfT90",
      "metadata": {
        "id": "qGy0GFfwfT90"
      },
      "source": [
        "## Fairness Evaluation"
      ]
    },
    {
      "cell_type": "markdown",
      "id": "qAqqn7W5fXD6",
      "metadata": {
        "id": "qAqqn7W5fXD6"
      },
      "source": [
        "* Statistical Parity Difference: Closer to 0 is better. 0 means no bias.\n",
        "* Average Odds Difference: 0 is ideal, indicating no discrimination.\n",
        "* Disparate Impact: Aim for 1. Values close to 1 indicate fairness.\n",
        "* Theil Index: Lower is better. 0 means perfect equality."
      ]
    },
    {
      "cell_type": "code",
      "execution_count": null,
      "id": "QrCSQTx7fR8x",
      "metadata": {
        "id": "QrCSQTx7fR8x"
      },
      "outputs": [],
      "source": [
        "def calculate_statistical_parity_difference(y_true, y_pred, A_test):\n",
        "    sr = lambda y_true, y_pred: selection_rate(y_true, y_pred)\n",
        "    mfm = MetricFrame(metrics=sr, y_true=y_test, y_pred=y_pred, sensitive_features=A_test)\n",
        "    return mfm.difference(method='between_groups')\n",
        "\n",
        "def calculate_average_odds_difference(y_true, y_pred, A_test):\n",
        "    unique_labels = np.unique(y_true)\n",
        "    if len(unique_labels) == 2:\n",
        "        pos_label = unique_labels[1]\n",
        "    else:\n",
        "        raise ValueError(\"y_true should have exactly two unique values for binary classification\")\n",
        "\n",
        "    tpr = lambda y_true, y_pred: true_positive_rate(y_true, y_pred, pos_label=pos_label)\n",
        "    fpr = lambda y_true, y_pred: false_positive_rate(y_true, y_pred, pos_label=pos_label)\n",
        "    average_odds = lambda y_true, y_pred: (tpr(y_true, y_pred) + fpr(y_true, y_pred)) / 2\n",
        "\n",
        "    mf = MetricFrame(metrics=average_odds,\n",
        "                     y_true=y_true,\n",
        "                     y_pred=y_pred,\n",
        "                     sensitive_features=A_test)\n",
        "    return mf.difference(method='between_groups')\n",
        "\n",
        "def calculate_disparate_impact(y_true, y_pred, A_test):\n",
        "    sr = lambda y_true, y_pred: selection_rate(y_true, y_pred)\n",
        "    mf = MetricFrame(metrics=sr, y_true=y_true, y_pred=y_pred, sensitive_features=A_test)\n",
        "    return mf.ratio(method='between_groups')\n",
        "\n",
        "def calculate_theil_index(y_true, y_pred):\n",
        "    actual_pos = np.mean(y_true == 1)\n",
        "    pred_pos = np.mean(y_pred == 1)\n",
        "\n",
        "    epsilon = 1e-10\n",
        "\n",
        "    actual_entropy = -(actual_pos * np.log2(actual_pos + epsilon) + (1 - actual_pos) * np.log2(1 - actual_pos + epsilon))\n",
        "    pred_entropy = -(pred_pos * np.log2(pred_pos + epsilon) + (1 - pred_pos) * np.log2(1 - pred_pos + epsilon))\n",
        "\n",
        "    theil_index = pred_entropy - actual_entropy\n",
        "\n",
        "    #mf = MetricFrame(metrics=sr, y_true=y_true, y_pred=y_pred, sensitive_features=A_test)\n",
        "    #mf.difference(method='between_groups')\n",
        "    return theil_index\n",
        "    \"\"\"\n",
        "    actual_pos = np.mean(y_true == 1)\n",
        "    pred_pos = np.mean(y_pred == 1)\n",
        "\n",
        "    epsilon = 1e-10\n",
        "\n",
        "    # KL Divergence Calculation (non-negative)\n",
        "    actual_entropy = -(actual_pos * np.log2(actual_pos + epsilon) + (1 - actual_pos) * np.log2(1 - actual_pos + epsilon))\n",
        "    pred_entropy = -(pred_pos * np.log2(pred_pos + epsilon) + (1 - pred_pos) * np.log2(1 - pred_pos + epsilon))\n",
        "\n",
        "    theil_index = np.abs(pred_entropy - actual_entropy)  # Use absolute difference to avoid negatives\n",
        "    return theil_index\n",
        "    \"\"\""
      ]
    },
    {
      "cell_type": "markdown",
      "id": "BodvsNNjdMf0",
      "metadata": {
        "id": "BodvsNNjdMf0"
      },
      "source": [
        "##Model Architecture"
      ]
    },
    {
      "cell_type": "code",
      "execution_count": null,
      "id": "fde4U484dHls",
      "metadata": {
        "id": "fde4U484dHls"
      },
      "outputs": [],
      "source": [
        "n_input = X_np.shape[1]\n",
        "\n",
        "class NetArch1(nn.Module):\n",
        "    def __init__(self):\n",
        "        super().__init__()\n",
        "\n",
        "        self.fc1 = nn.Linear(n_input, 128)\n",
        "        self.fc2 = nn.Linear(128, 64)\n",
        "        self.fc3 = nn.Linear(64, 2)\n",
        "\n",
        "        self.layernorm1 = nn.LayerNorm(128)\n",
        "        self.layernorm2 = nn.LayerNorm(64)\n",
        "\n",
        "    def forward(self, x):\n",
        "        x = self.layernorm1(F.relu(self.fc1(x)))\n",
        "        x = self.layernorm2(F.relu(self.fc2(x)))\n",
        "        x = self.fc3(x)\n",
        "        return F.log_softmax(x, dim=1)\n",
        "\n",
        "class NetArch2(nn.Module):\n",
        "    def __init__(self):\n",
        "        super().__init__()\n",
        "        self.fc1 = nn.Linear(n_input, 100)\n",
        "        self.fc2 = nn.Linear(100, 100)\n",
        "        self.fc3 = nn.Linear(100, 100)\n",
        "        self.fc4 = nn.Linear(100, 2)\n",
        "\n",
        "    def forward(self, x):\n",
        "        x = F.relu(self.fc1(x))\n",
        "        x = F.relu(self.fc2(x))\n",
        "        x = F.relu(self.fc3(x))\n",
        "        x = self.fc4(x)\n",
        "        return F.log_softmax(x, dim=1)\n",
        "\n",
        "class NetArch3(nn.Module):\n",
        "    def __init__(self):\n",
        "        super().__init__()\n",
        "        self.fc1 = nn.Linear(n_input, 100)\n",
        "        self.fc2 = nn.Linear(100, 100)\n",
        "        self.fc3 = nn.Linear(100, 100)\n",
        "        self.fc4 = nn.Linear(100, 2)\n",
        "\n",
        "    def forward(self, x):\n",
        "        x = F.sigmoid(self.fc1(x))\n",
        "        x = F.sigmoid(self.fc2(x))\n",
        "        x = F.sigmoid(self.fc3(x))\n",
        "        x = self.fc4(x)\n",
        "        return F.log_softmax(x, dim=1)"
      ]
    },
    {
      "cell_type": "markdown",
      "id": "3qMDI31QdSBD",
      "metadata": {
        "id": "3qMDI31QdSBD"
      },
      "source": [
        "## QAT Compatible Model Architecture"
      ]
    },
    {
      "cell_type": "code",
      "execution_count": null,
      "id": "y4am0xSSdOfi",
      "metadata": {
        "id": "y4am0xSSdOfi"
      },
      "outputs": [],
      "source": [
        "import torch\n",
        "import torch.nn as nn\n",
        "import torch.optim as optim\n",
        "import torch.nn.functional as F\n",
        "import torch.quantization\n",
        "\n",
        "n_input = X_np.shape[1]\n",
        "\n",
        "class QATArch1(nn.Module):\n",
        "    def __init__(self):\n",
        "        super().__init__()\n",
        "        self.quant = torch.quantization.QuantStub()\n",
        "        self.fc1 = nn.Linear(n_input, 128)\n",
        "        self.fc2 = nn.Linear(128, 64)\n",
        "        self.fc3 = nn.Linear(64, 2)\n",
        "        self.layernorm1 = nn.LayerNorm(128)\n",
        "        self.layernorm2 = nn.LayerNorm(64)\n",
        "        self.dequant = torch.quantization.DeQuantStub()\n",
        "\n",
        "    def forward(self, x):\n",
        "        x = self.quant(x)\n",
        "        x = self.layernorm1(F.relu(self.fc1(x)))\n",
        "        x = self.layernorm2(F.relu(self.fc2(x)))\n",
        "        x = self.fc3(x)\n",
        "        x = self.dequant(x)\n",
        "        return F.log_softmax(x, dim=1)\n",
        "\n",
        "class QATArch2(nn.Module):\n",
        "    def __init__(self):\n",
        "        super().__init__()\n",
        "        self.quant = torch.quantization.QuantStub()\n",
        "        self.fc1 = nn.Linear(n_input, 100)\n",
        "        self.fc2 = nn.Linear(100, 100)\n",
        "        self.fc3 = nn.Linear(100, 100)\n",
        "        self.fc4 = nn.Linear(100, 2)\n",
        "        self.dequant = torch.quantization.DeQuantStub()\n",
        "\n",
        "    def forward(self, x):\n",
        "        x = self.quant(x)\n",
        "        x = F.relu(self.fc1(x))\n",
        "        x = F.relu(self.fc2(x))\n",
        "        x = F.relu(self.fc3(x))\n",
        "        x = self.fc4(x)\n",
        "        x = self.dequant(x)\n",
        "        return F.log_softmax(x, dim=1)\n",
        "\n",
        "class QATArch3(nn.Module):\n",
        "    def __init__(self):\n",
        "        super().__init__()\n",
        "        self.quant = torch.quantization.QuantStub()\n",
        "        self.fc1 = nn.Linear(n_input, 100)\n",
        "        self.fc2 = nn.Linear(100, 100)\n",
        "        self.fc3 = nn.Linear(100, 100)\n",
        "        self.fc4 = nn.Linear(100, 2)\n",
        "        self.dequant = torch.quantization.DeQuantStub()\n",
        "\n",
        "    def forward(self, x):\n",
        "        x = self.quant(x)\n",
        "        x = torch.sigmoid(self.fc1(x))\n",
        "        x = torch.sigmoid(self.fc2(x))\n",
        "        x = torch.sigmoid(self.fc3(x))\n",
        "        x = self.fc4(x)\n",
        "        x = self.dequant(x)\n",
        "        return F.log_softmax(x, dim=1)"
      ]
    },
    {
      "cell_type": "code",
      "execution_count": null,
      "id": "helper-functions",
      "metadata": {
        "id": "helper-functions"
      },
      "outputs": [],
      "source": [
        "def dynamic_compress_model(model_path):\n",
        "    model = NetArch1()\n",
        "    model.load_state_dict(torch.load(model_path))\n",
        "    model.eval()\n",
        "\n",
        "    compressed_model = quantize_dynamic(\n",
        "        model=model,\n",
        "        qconfig_spec={torch.nn.Linear},\n",
        "        dtype=torch.qint8\n",
        "    )\n",
        "    return compressed_model\n",
        "\n",
        "def prepare_model_for_qat(model):\n",
        "    model.qconfig = torch.quantization.get_default_qat_qconfig('fbgemm')\n",
        "    model = torch.quantization.prepare_qat(model)\n",
        "    return model\n",
        "\n",
        "def convert_qat_model(model):\n",
        "    model = torch.quantization.convert(model.eval())\n",
        "    return model\n",
        "\n",
        "\n",
        "def get_k_fold_split(X, y,A, k, num_splits=5):\n",
        "    indices = np.arange(len(X))\n",
        "    fold_size = len(X) // num_splits\n",
        "\n",
        "    start = k * fold_size\n",
        "    end = start + fold_size if k != num_splits - 1 else len(X)\n",
        "\n",
        "    test_idx = indices[start:end]\n",
        "    train_idx = np.concatenate([indices[:start], indices[end:]])\n",
        "\n",
        "    return X[train_idx], y[train_idx], A[train_idx], X[test_idx], y[test_idx], A[test_idx]\n",
        "\n",
        "\n",
        "def train_baseline_model(X_train, y_train, fold, num_epochs=10, batch_size=64):\n",
        "  model = NetArch1()\n",
        "  optimizer = optim.Adam(model.parameters(), lr=1e-3)\n",
        "  criterion = nn.NLLLoss()\n",
        "\n",
        "  dataset = TensorDataset(torch.FloatTensor(X_train), torch.LongTensor(y_train))\n",
        "  train_loader = DataLoader(dataset, batch_size=batch_size, shuffle=True)\n",
        "\n",
        "  model.train()\n",
        "  for epoch in range(num_epochs):\n",
        "      for batch_X, batch_y in train_loader:\n",
        "          optimizer.zero_grad()\n",
        "          outputs = model(batch_X)\n",
        "          loss = criterion(outputs, batch_y)\n",
        "          loss.backward()\n",
        "          optimizer.step()\n",
        "\n",
        "  model.eval()\n",
        "  y_true, y_pred = [], []\n",
        "  with torch.no_grad():\n",
        "      for batch_X, batch_y in train_loader:\n",
        "          outputs = model(batch_X)\n",
        "          _, predicted = torch.max(outputs, 1)\n",
        "          y_true.extend(batch_y.numpy())\n",
        "          y_pred.extend(predicted.numpy())\n",
        "\n",
        "  f1 = f1_score(y_true, y_pred)\n",
        "  print(f\"Fold {fold + 1}: Train F1 Score = {f1:.4f}\")\n",
        "\n",
        "\n",
        "  model_path = f\"model_fold{fold}.pkl\"\n",
        "  save_model(model, model_path)\n",
        "\n",
        "  return model\n",
        "\n",
        "def train_qat_model(X_train, y_train, fold, num_epochs=10, batch_size=64):\n",
        "    model = QATArch1()\n",
        "    model = prepare_model_for_qat(model)\n",
        "\n",
        "    optimizer = optim.Adam(model.parameters(), lr=1e-3)\n",
        "    criterion = nn.NLLLoss()\n",
        "\n",
        "    dataset = TensorDataset(torch.FloatTensor(X_train), torch.LongTensor(y_train))\n",
        "    train_loader = DataLoader(dataset, batch_size=batch_size, shuffle=True)\n",
        "\n",
        "    for epoch in range(num_epochs):\n",
        "        model.train()\n",
        "        total_loss = 0.0\n",
        "\n",
        "        for batch_X, batch_y in train_loader:\n",
        "            outputs = model(batch_X)\n",
        "            loss = criterion(outputs, batch_y)\n",
        "\n",
        "            optimizer.zero_grad()\n",
        "            loss.backward()\n",
        "            optimizer.step()\n",
        "\n",
        "            total_loss += loss.item() * batch_X.size(0)\n",
        "\n",
        "    model.eval()\n",
        "    quantized_model = convert_qat_model(model)\n",
        "\n",
        "    y_true, y_pred = [], []\n",
        "    with torch.no_grad():\n",
        "        for batch_X, batch_y in train_loader:\n",
        "            outputs = quantized_model(batch_X)\n",
        "            _, predicted = torch.max(outputs, 1)\n",
        "            y_true.extend(batch_y.numpy())\n",
        "            y_pred.extend(predicted.numpy())\n",
        "\n",
        "    f1 = f1_score(y_true, y_pred)\n",
        "    print(f\"Fold {fold + 1}: Train F1 Score (QAT) = {f1:.4f}\")\n",
        "\n",
        "    model_path = f\"qat_model_fold{fold}.pkl\"\n",
        "    save_model(quantized_model, model_path)\n",
        "\n",
        "    return quantized_model\n",
        "\n",
        "\n",
        "def evaluate_baseline_model(model, X_test, y_test, A_test):\n",
        "    output = model.forward(torch.FloatTensor(X_test))\n",
        "    _, y_pred = torch.max(output, dim=1)\n",
        "\n",
        "    y_pred = pd.Series(y_pred.detach().numpy())\n",
        "    y_test = pd.Series(y_test)\n",
        "\n",
        "    mf1 = MetricFrame(metrics=f1_score, y_true=y_test, y_pred=y_pred, sensitive_features=A_test)\n",
        "\n",
        "    baseline_metrics = {\n",
        "        \"Baseline Statistical Parity Difference\": round(calculate_statistical_parity_difference(y_test, y_pred, A_test), 3),\n",
        "        \"Baseline Average Odds Difference\": round(calculate_average_odds_difference(y_test, y_pred, A_test), 3),\n",
        "        \"Baseline Disparate Impact\": round(calculate_disparate_impact(y_test, y_pred, A_test), 3),\n",
        "        \"Baseline Theil Index\": round(calculate_theil_index(y_test, y_pred),3),\n",
        "        \"Baseline F1 Score\": round(f1_score(y_test, y_pred),3)\n",
        "    }\n",
        "\n",
        "    return baseline_metrics\n",
        "\n",
        "def evaluate_qat_model(model, X_test, y_test, A_test):\n",
        "    X_test = X_test.astype(np.float32)\n",
        "\n",
        "    nan_mask = np.isnan(X_test)\n",
        "    if nan_mask.any():\n",
        "        col_means = np.nanmean(X_test, axis=0)\n",
        "        X_test[nan_mask] = col_means[nan_mask[0]]\n",
        "\n",
        "    X_test_tensor = torch.tensor(X_test, dtype=torch.float32)\n",
        "\n",
        "    model.eval()\n",
        "\n",
        "    with torch.no_grad():\n",
        "        output = model(X_test_tensor)\n",
        "        _, y_pred = torch.max(output, dim=1)\n",
        "\n",
        "    y_pred_np = y_pred.cpu().numpy()\n",
        "\n",
        "    qat_metrics = {\n",
        "        \"QAT Statistical Parity Difference\": round(calculate_statistical_parity_difference(y_test, y_pred_np, A_test), 3),\n",
        "        \"QAT Average Odds Difference\": round(calculate_average_odds_difference(y_test, y_pred_np, A_test), 3),\n",
        "        \"QAT Disparate Impact\": round(calculate_disparate_impact(y_test, y_pred_np, A_test), 3),\n",
        "        \"QAT Theil Index\": round(calculate_theil_index(y_test, y_pred_np), 3),\n",
        "        \"QAT F1 Score\": round(f1_score(y_test, y_pred_np), 3),\n",
        "        \"F1 Score\": round(f1_score(y_test, y_pred_np), 3)\n",
        "    }\n",
        "\n",
        "    return qat_metrics\n",
        "\n",
        "def evaluate_compressed_model(model, X_test, y_test, A_test):\n",
        "    output = model(torch.FloatTensor(X_test))\n",
        "    _, y_pred = torch.max(output, dim=1)\n",
        "\n",
        "    y_pred = pd.Series(y_pred.detach().numpy())\n",
        "    y_test = pd.Series(y_test)\n",
        "\n",
        "    mf = MetricFrame(metrics=f1_score, y_true=y_test, y_pred=y_pred, sensitive_features=A_test)\n",
        "\n",
        "    compressed_metrics = {\n",
        "        \"Compressed Statistical Parity Difference\": round(calculate_statistical_parity_difference(y_test, y_pred, A_test), 3),\n",
        "        \"Compressed Average Odds Difference\": round(calculate_average_odds_difference(y_test, y_pred, A_test), 3),\n",
        "        \"Compressed Disparate Impact\": round(calculate_disparate_impact(y_test, y_pred, A_test), 3),\n",
        "        \"Compressed Theil Index\": round(calculate_theil_index(y_test, y_pred), 3),\n",
        "        \"Compressed F1 Score\": round(f1_score(y_test, y_pred), 3),\n",
        "    }\n",
        "\n",
        "    return compressed_metrics\n"
      ]
    },
    {
      "cell_type": "markdown",
      "id": "av1ZTFC200mE",
      "metadata": {
        "id": "av1ZTFC200mE"
      },
      "source": [
        "### k‑Fold Cross Validation\n"
      ]
    },
    {
      "cell_type": "code",
      "execution_count": null,
      "id": "kfold-crossvalidation",
      "metadata": {
        "colab": {
          "base_uri": "https://localhost:8080/"
        },
        "id": "kfold-crossvalidation",
        "outputId": "9ec6e91f-0e11-4db5-deba-924a0229569c"
      },
      "outputs": [
        {
          "output_type": "stream",
          "name": "stdout",
          "text": [
            "\n",
            "Processing fold 1/10\n",
            "Fold 1: Train F1 Score = 0.9899\n"
          ]
        },
        {
          "output_type": "stream",
          "name": "stderr",
          "text": [
            "/usr/local/lib/python3.11/dist-packages/torch/ao/quantization/observer.py:229: UserWarning: Please use quant_min and quant_max to specify the range for observers.                     reduce_range will be deprecated in a future release of PyTorch.\n",
            "  warnings.warn(\n"
          ]
        },
        {
          "output_type": "stream",
          "name": "stdout",
          "text": [
            "Fold 1: Train F1 Score (QAT) = 0.9726\n",
            "Baseline Eval: {'Baseline Statistical Parity Difference': np.float64(0.062), 'Baseline Average Odds Difference': np.float64(0.076), 'Baseline Disparate Impact': np.float64(0.933), 'Baseline Theil Index': np.float64(-0.049), 'Baseline F1 Score': 0.922}\n",
            "Compressed Eval: {'Compressed Statistical Parity Difference': np.float64(0.062), 'Compressed Average Odds Difference': np.float64(0.076), 'Compressed Disparate Impact': np.float64(0.933), 'Compressed Theil Index': np.float64(-0.049), 'Compressed F1 Score': 0.922}\n",
            "QAT Eval: {'QAT Statistical Parity Difference': np.float64(0.062), 'QAT Average Odds Difference': np.float64(0.076), 'QAT Disparate Impact': np.float64(0.933), 'QAT Theil Index': np.float64(-0.049), 'QAT F1 Score': 0.922, 'F1 Score': 0.922}\n",
            "\n",
            "Processing fold 2/10\n",
            "Fold 2: Train F1 Score = 0.9851\n"
          ]
        },
        {
          "output_type": "stream",
          "name": "stderr",
          "text": [
            "/usr/local/lib/python3.11/dist-packages/torch/ao/quantization/observer.py:229: UserWarning: Please use quant_min and quant_max to specify the range for observers.                     reduce_range will be deprecated in a future release of PyTorch.\n",
            "  warnings.warn(\n"
          ]
        },
        {
          "output_type": "stream",
          "name": "stdout",
          "text": [
            "Fold 2: Train F1 Score (QAT) = 0.9701\n",
            "Baseline Eval: {'Baseline Statistical Parity Difference': np.float64(0.066), 'Baseline Average Odds Difference': np.float64(0.146), 'Baseline Disparate Impact': np.float64(0.931), 'Baseline Theil Index': np.float64(-0.359), 'Baseline F1 Score': 0.893}\n",
            "Compressed Eval: {'Compressed Statistical Parity Difference': np.float64(0.066), 'Compressed Average Odds Difference': np.float64(0.146), 'Compressed Disparate Impact': np.float64(0.931), 'Compressed Theil Index': np.float64(-0.359), 'Compressed F1 Score': 0.893}\n",
            "QAT Eval: {'QAT Statistical Parity Difference': np.float64(0.036), 'QAT Average Odds Difference': np.float64(0.046), 'QAT Disparate Impact': np.float64(0.961), 'QAT Theil Index': np.float64(-0.301), 'QAT F1 Score': 0.901, 'F1 Score': 0.901}\n",
            "\n",
            "Processing fold 3/10\n",
            "Fold 3: Train F1 Score = 0.9807\n"
          ]
        },
        {
          "output_type": "stream",
          "name": "stderr",
          "text": [
            "/usr/local/lib/python3.11/dist-packages/torch/ao/quantization/observer.py:229: UserWarning: Please use quant_min and quant_max to specify the range for observers.                     reduce_range will be deprecated in a future release of PyTorch.\n",
            "  warnings.warn(\n"
          ]
        },
        {
          "output_type": "stream",
          "name": "stdout",
          "text": [
            "Fold 3: Train F1 Score (QAT) = 0.9867\n",
            "Baseline Eval: {'Baseline Statistical Parity Difference': np.float64(0.267), 'Baseline Average Odds Difference': np.float64(0.106), 'Baseline Disparate Impact': np.float64(0.705), 'Baseline Theil Index': np.float64(-0.169), 'Baseline F1 Score': 0.854}\n",
            "Compressed Eval: {'Compressed Statistical Parity Difference': np.float64(0.267), 'Compressed Average Odds Difference': np.float64(0.106), 'Compressed Disparate Impact': np.float64(0.705), 'Compressed Theil Index': np.float64(-0.169), 'Compressed F1 Score': 0.854}\n",
            "QAT Eval: {'QAT Statistical Parity Difference': np.float64(0.204), 'QAT Average Odds Difference': np.float64(0.06), 'QAT Disparate Impact': np.float64(0.765), 'QAT Theil Index': np.float64(-0.169), 'QAT F1 Score': 0.831, 'F1 Score': 0.831}\n",
            "\n",
            "Processing fold 4/10\n",
            "Fold 4: Train F1 Score = 0.9863\n"
          ]
        },
        {
          "output_type": "stream",
          "name": "stderr",
          "text": [
            "/usr/local/lib/python3.11/dist-packages/torch/ao/quantization/observer.py:229: UserWarning: Please use quant_min and quant_max to specify the range for observers.                     reduce_range will be deprecated in a future release of PyTorch.\n",
            "  warnings.warn(\n"
          ]
        },
        {
          "output_type": "stream",
          "name": "stdout",
          "text": [
            "Fold 4: Train F1 Score (QAT) = 0.9729\n",
            "Baseline Eval: {'Baseline Statistical Parity Difference': np.float64(0.003), 'Baseline Average Odds Difference': np.float64(0.033), 'Baseline Disparate Impact': np.float64(0.997), 'Baseline Theil Index': np.float64(-0.301), 'Baseline F1 Score': 0.901}\n",
            "Compressed Eval: {'Compressed Statistical Parity Difference': np.float64(0.003), 'Compressed Average Odds Difference': np.float64(0.033), 'Compressed Disparate Impact': np.float64(0.997), 'Compressed Theil Index': np.float64(-0.301), 'Compressed F1 Score': 0.901}\n",
            "QAT Eval: {'QAT Statistical Parity Difference': np.float64(0.099), 'QAT Average Odds Difference': np.float64(0.208), 'QAT Disparate Impact': np.float64(0.892), 'QAT Theil Index': np.float64(-0.11), 'QAT F1 Score': 0.897, 'F1 Score': 0.897}\n",
            "\n",
            "Processing fold 5/10\n",
            "Fold 5: Train F1 Score = 0.9853\n"
          ]
        },
        {
          "output_type": "stream",
          "name": "stderr",
          "text": [
            "/usr/local/lib/python3.11/dist-packages/torch/ao/quantization/observer.py:229: UserWarning: Please use quant_min and quant_max to specify the range for observers.                     reduce_range will be deprecated in a future release of PyTorch.\n",
            "  warnings.warn(\n"
          ]
        },
        {
          "output_type": "stream",
          "name": "stdout",
          "text": [
            "Fold 5: Train F1 Score (QAT) = 0.9792\n",
            "Baseline Eval: {'Baseline Statistical Parity Difference': np.float64(0.012), 'Baseline Average Odds Difference': np.float64(0.118), 'Baseline Disparate Impact': np.float64(0.986), 'Baseline Theil Index': np.float64(-0.139), 'Baseline F1 Score': 0.889}\n",
            "Compressed Eval: {'Compressed Statistical Parity Difference': np.float64(0.042), 'Compressed Average Odds Difference': np.float64(0.1), 'Compressed Disparate Impact': np.float64(0.95), 'Compressed Theil Index': np.float64(-0.173), 'Compressed F1 Score': 0.9}\n",
            "QAT Eval: {'QAT Statistical Parity Difference': np.float64(0.046), 'QAT Average Odds Difference': np.float64(0.151), 'QAT Disparate Impact': np.float64(0.942), 'QAT Theil Index': np.float64(-0.05), 'QAT F1 Score': 0.875, 'F1 Score': 0.875}\n",
            "\n",
            "Processing fold 6/10\n",
            "Fold 6: Train F1 Score = 0.9875\n"
          ]
        },
        {
          "output_type": "stream",
          "name": "stderr",
          "text": [
            "/usr/local/lib/python3.11/dist-packages/torch/ao/quantization/observer.py:229: UserWarning: Please use quant_min and quant_max to specify the range for observers.                     reduce_range will be deprecated in a future release of PyTorch.\n",
            "  warnings.warn(\n"
          ]
        },
        {
          "output_type": "stream",
          "name": "stdout",
          "text": [
            "Fold 6: Train F1 Score (QAT) = 0.9837\n",
            "Baseline Eval: {'Baseline Statistical Parity Difference': np.float64(0.002), 'Baseline Average Odds Difference': np.float64(0.167), 'Baseline Disparate Impact': np.float64(0.998), 'Baseline Theil Index': np.float64(-0.137), 'Baseline F1 Score': 0.903}\n",
            "Compressed Eval: {'Compressed Statistical Parity Difference': np.float64(0.002), 'Compressed Average Odds Difference': np.float64(0.167), 'Compressed Disparate Impact': np.float64(0.998), 'Compressed Theil Index': np.float64(-0.137), 'Compressed F1 Score': 0.903}\n",
            "QAT Eval: {'QAT Statistical Parity Difference': np.float64(0.145), 'QAT Average Odds Difference': np.float64(0.016), 'QAT Disparate Impact': np.float64(0.84), 'QAT Theil Index': np.float64(0.0), 'QAT F1 Score': 0.891, 'F1 Score': 0.891}\n",
            "\n",
            "Processing fold 7/10\n",
            "Fold 7: Train F1 Score = 0.9865\n"
          ]
        },
        {
          "output_type": "stream",
          "name": "stderr",
          "text": [
            "/usr/local/lib/python3.11/dist-packages/torch/ao/quantization/observer.py:229: UserWarning: Please use quant_min and quant_max to specify the range for observers.                     reduce_range will be deprecated in a future release of PyTorch.\n",
            "  warnings.warn(\n"
          ]
        },
        {
          "output_type": "stream",
          "name": "stdout",
          "text": [
            "Fold 7: Train F1 Score (QAT) = 0.9780\n",
            "Baseline Eval: {'Baseline Statistical Parity Difference': np.float64(0.166), 'Baseline Average Odds Difference': np.float64(0.022), 'Baseline Disparate Impact': np.float64(0.772), 'Baseline Theil Index': np.float64(0.127), 'Baseline F1 Score': 0.826}\n",
            "Compressed Eval: {'Compressed Statistical Parity Difference': np.float64(0.191), 'Compressed Average Odds Difference': np.float64(0.038), 'Compressed Disparate Impact': np.float64(0.748), 'Compressed Theil Index': np.float64(0.11), 'Compressed F1 Score': 0.839}\n",
            "QAT Eval: {'QAT Statistical Parity Difference': np.float64(0.215), 'QAT Average Odds Difference': np.float64(0.093), 'QAT Disparate Impact': np.float64(0.724), 'QAT Theil Index': np.float64(0.092), 'QAT F1 Score': 0.872, 'F1 Score': 0.872}\n",
            "\n",
            "Processing fold 8/10\n",
            "Fold 8: Train F1 Score = 0.9904\n"
          ]
        },
        {
          "output_type": "stream",
          "name": "stderr",
          "text": [
            "/usr/local/lib/python3.11/dist-packages/torch/ao/quantization/observer.py:229: UserWarning: Please use quant_min and quant_max to specify the range for observers.                     reduce_range will be deprecated in a future release of PyTorch.\n",
            "  warnings.warn(\n"
          ]
        },
        {
          "output_type": "stream",
          "name": "stdout",
          "text": [
            "Fold 8: Train F1 Score (QAT) = 0.9764\n",
            "Baseline Eval: {'Baseline Statistical Parity Difference': np.float64(0.223), 'Baseline Average Odds Difference': np.float64(0.243), 'Baseline Disparate Impact': np.float64(0.544), 'Baseline Theil Index': np.float64(0.0), 'Baseline F1 Score': 0.719}\n",
            "Compressed Eval: {'Compressed Statistical Parity Difference': np.float64(0.223), 'Compressed Average Odds Difference': np.float64(0.243), 'Compressed Disparate Impact': np.float64(0.544), 'Compressed Theil Index': np.float64(0.0), 'Compressed F1 Score': 0.719}\n",
            "QAT Eval: {'QAT Statistical Parity Difference': np.float64(0.044), 'QAT Average Odds Difference': np.float64(0.099), 'QAT Disparate Impact': np.float64(0.915), 'QAT Theil Index': np.float64(0.011), 'QAT F1 Score': 0.765, 'F1 Score': 0.765}\n",
            "\n",
            "Processing fold 9/10\n",
            "Fold 9: Train F1 Score = 0.9849\n"
          ]
        },
        {
          "output_type": "stream",
          "name": "stderr",
          "text": [
            "/usr/local/lib/python3.11/dist-packages/torch/ao/quantization/observer.py:229: UserWarning: Please use quant_min and quant_max to specify the range for observers.                     reduce_range will be deprecated in a future release of PyTorch.\n",
            "  warnings.warn(\n"
          ]
        },
        {
          "output_type": "stream",
          "name": "stdout",
          "text": [
            "Fold 9: Train F1 Score (QAT) = 0.9873\n",
            "Baseline Eval: {'Baseline Statistical Parity Difference': np.float64(0.263), 'Baseline Average Odds Difference': np.float64(0.204), 'Baseline Disparate Impact': np.float64(0.642), 'Baseline Theil Index': np.float64(0.009), 'Baseline F1 Score': 0.635}\n",
            "Compressed Eval: {'Compressed Statistical Parity Difference': np.float64(0.263), 'Compressed Average Odds Difference': np.float64(0.204), 'Compressed Disparate Impact': np.float64(0.642), 'Compressed Theil Index': np.float64(0.009), 'Compressed F1 Score': 0.635}\n",
            "QAT Eval: {'QAT Statistical Parity Difference': np.float64(0.255), 'QAT Average Odds Difference': np.float64(0.204), 'QAT Disparate Impact': np.float64(0.618), 'QAT Theil Index': np.float64(0.032), 'QAT F1 Score': 0.61, 'F1 Score': 0.61}\n",
            "\n",
            "Processing fold 10/10\n",
            "Fold 10: Train F1 Score = 0.9855\n"
          ]
        },
        {
          "output_type": "stream",
          "name": "stderr",
          "text": [
            "/usr/local/lib/python3.11/dist-packages/torch/ao/quantization/observer.py:229: UserWarning: Please use quant_min and quant_max to specify the range for observers.                     reduce_range will be deprecated in a future release of PyTorch.\n",
            "  warnings.warn(\n"
          ]
        },
        {
          "output_type": "stream",
          "name": "stdout",
          "text": [
            "Fold 10: Train F1 Score (QAT) = 0.9857\n",
            "Baseline Eval: {'Baseline Statistical Parity Difference': np.float64(0.321), 'Baseline Average Odds Difference': np.float64(0.339), 'Baseline Disparate Impact': np.float64(0.51), 'Baseline Theil Index': np.float64(-0.008), 'Baseline F1 Score': 0.75}\n",
            "Compressed Eval: {'Compressed Statistical Parity Difference': np.float64(0.273), 'Compressed Average Odds Difference': np.float64(0.283), 'Compressed Disparate Impact': np.float64(0.583), 'Compressed Theil Index': np.float64(-0.013), 'Compressed F1 Score': 0.741}\n",
            "QAT Eval: {'QAT Statistical Parity Difference': np.float64(0.206), 'QAT Average Odds Difference': np.float64(0.197), 'QAT Disparate Impact': np.float64(0.675), 'QAT Theil Index': np.float64(-0.013), 'QAT F1 Score': 0.667, 'F1 Score': 0.667}\n"
          ]
        }
      ],
      "source": [
        "\n",
        "X, y, A = load_your_dataset()\n",
        "num_splits = 10\n",
        "\n",
        "baseline_fold_metrics = []\n",
        "compressed_fold_metrics = []\n",
        "qat_fold_metrics = []\n",
        "\n",
        "for k in range(num_splits):\n",
        "    print(f\"\\nProcessing fold {k + 1}/{num_splits}\")\n",
        "\n",
        "    X_train, y_train, A_train, X_test, y_test, A_test = get_k_fold_split(X, y, A, k, num_splits)\n",
        "\n",
        "    baseline_model = train_baseline_model(X_train, y_train, k)\n",
        "    baseline_eval = evaluate_baseline_model(baseline_model, X_test, y_test, A_test)\n",
        "    model_path = f\"model_fold{k}.pkl\"\n",
        "\n",
        "    compressed_model = dynamic_compress_model(model_path)\n",
        "    compressed_eval = evaluate_compressed_model(compressed_model, X_test, y_test, A_test)\n",
        "\n",
        "    qat_model = train_qat_model(X_train, y_train, k)\n",
        "    qat_eval = evaluate_qat_model(qat_model, X_test, y_test, A_test)\n",
        "\n",
        "    baseline_fold_metrics.append(baseline_eval)\n",
        "    compressed_fold_metrics.append(compressed_eval)\n",
        "    qat_fold_metrics.append(qat_eval)\n",
        "\n",
        "    print(f\"Baseline Eval: {baseline_eval}\")\n",
        "    print(f\"Compressed Eval: {compressed_eval}\")\n",
        "    print(f\"QAT Eval: {qat_eval}\")\n",
        "\n",
        "baseline_df = pd.DataFrame(baseline_fold_metrics)\n",
        "compressed_df = pd.DataFrame(compressed_fold_metrics)\n",
        "qat_df = pd.DataFrame(qat_fold_metrics)\n",
        "\n",
        "\n",
        "baseline_df.to_csv(\"baseline_metrics.csv\", index=True, float_format=\"%.3f\")\n",
        "compressed_df.to_csv(\"compressed_metrics.csv\", index=True, float_format=\"%.3f\")\n",
        "qat_df.to_csv(\"qat_metrics.csv\", index=True, float_format=\"%.3f\")\n"
      ]
    },
    {
      "cell_type": "code",
      "execution_count": null,
      "id": "VpVaPNTKKNk9",
      "metadata": {
        "colab": {
          "base_uri": "https://localhost:8080/"
        },
        "id": "VpVaPNTKKNk9",
        "outputId": "aabb4431-bb49-4f50-8fe8-d5d24ee486b4"
      },
      "outputs": [
        {
          "output_type": "stream",
          "name": "stdout",
          "text": [
            "   Baseline Statistical Parity Difference  Baseline Average Odds Difference  \\\n",
            "0                                   0.062                             0.076   \n",
            "1                                   0.066                             0.146   \n",
            "2                                   0.267                             0.106   \n",
            "3                                   0.003                             0.033   \n",
            "4                                   0.012                             0.118   \n",
            "5                                   0.002                             0.167   \n",
            "6                                   0.166                             0.022   \n",
            "7                                   0.223                             0.243   \n",
            "8                                   0.263                             0.204   \n",
            "9                                   0.321                             0.339   \n",
            "\n",
            "   Baseline Disparate Impact  Baseline Theil Index  Baseline F1 Score  \n",
            "0                      0.933                -0.049              0.922  \n",
            "1                      0.931                -0.359              0.893  \n",
            "2                      0.705                -0.169              0.854  \n",
            "3                      0.997                -0.301              0.901  \n",
            "4                      0.986                -0.139              0.889  \n",
            "5                      0.998                -0.137              0.903  \n",
            "6                      0.772                 0.127              0.826  \n",
            "7                      0.544                 0.000              0.719  \n",
            "8                      0.642                 0.009              0.635  \n",
            "9                      0.510                -0.008              0.750  \n"
          ]
        }
      ],
      "source": [
        "print(baseline_df)\n",
        "baseline_df.to_csv(\"baseline_metrics.csv\", index=True, float_format=\"%.3f\")"
      ]
    },
    {
      "cell_type": "code",
      "execution_count": null,
      "id": "9tEpQQ4eq1jL",
      "metadata": {
        "id": "9tEpQQ4eq1jL",
        "colab": {
          "base_uri": "https://localhost:8080/",
          "height": 867
        },
        "outputId": "98006189-39f3-4035-a011-8b4a717dbcaa"
      },
      "outputs": [
        {
          "output_type": "stream",
          "name": "stdout",
          "text": [
            "  adding: content/ (stored 0%)\n",
            "  adding: content/.config/ (stored 0%)\n",
            "  adding: content/.config/.last_update_check.json (deflated 22%)\n",
            "  adding: content/.config/active_config (stored 0%)\n",
            "  adding: content/.config/configurations/ (stored 0%)\n",
            "  adding: content/.config/configurations/config_default (deflated 15%)\n",
            "  adding: content/.config/.last_survey_prompt.yaml (stored 0%)\n",
            "  adding: content/.config/logs/ (stored 0%)\n",
            "  adding: content/.config/logs/2025.05.09/ (stored 0%)\n",
            "  adding: content/.config/logs/2025.05.09/13.40.57.224020.log (deflated 92%)\n",
            "  adding: content/.config/logs/2025.05.09/13.41.27.718573.log (deflated 58%)\n",
            "  adding: content/.config/logs/2025.05.09/13.41.26.495445.log (deflated 87%)\n",
            "  adding: content/.config/logs/2025.05.09/13.41.18.092482.log (deflated 58%)\n",
            "  adding: content/.config/logs/2025.05.09/13.41.36.263788.log (deflated 57%)\n",
            "  adding: content/.config/logs/2025.05.09/13.41.36.930373.log (deflated 57%)\n",
            "  adding: content/.config/hidden_gcloud_config_universe_descriptor_data_cache_configs.db (deflated 97%)\n",
            "  adding: content/.config/config_sentinel (stored 0%)\n",
            "  adding: content/.config/default_configs.db (deflated 98%)\n",
            "  adding: content/.config/.last_opt_in_prompt.yaml (stored 0%)\n",
            "  adding: content/.config/gce (stored 0%)\n",
            "  adding: content/model_fold3.pkl (deflated 11%)\n",
            "  adding: content/model_fold9.pkl (deflated 11%)\n",
            "  adding: content/qat_model_fold0.pkl (deflated 31%)\n",
            "  adding: content/qat_model_fold8.pkl (deflated 31%)\n",
            "  adding: content/model_fold2.pkl (deflated 11%)\n",
            "  adding: content/baseline_metrics.csv (deflated 45%)\n",
            "  adding: content/qat_metrics.csv (deflated 49%)\n",
            "  adding: content/model_fold1.pkl (deflated 11%)\n",
            "  adding: content/model_fold7.pkl (deflated 11%)\n",
            "  adding: content/model_fold0.pkl (deflated 11%)\n",
            "  adding: content/model_fold5.pkl (deflated 11%)\n",
            "  adding: content/qat_model_fold9.pkl (deflated 31%)\n",
            "  adding: content/qat_model_fold4.pkl (deflated 31%)\n",
            "  adding: content/model_fold4.pkl (deflated 11%)\n",
            "  adding: content/qat_model_fold2.pkl (deflated 31%)\n",
            "  adding: content/model_fold6.pkl (deflated 11%)\n",
            "  adding: content/model_fold8.pkl (deflated 11%)\n",
            "  adding: content/compressed_metrics.csv (deflated 46%)\n",
            "  adding: content/qat_model_fold6.pkl (deflated 31%)\n",
            "  adding: content/qat_model_fold1.pkl (deflated 31%)\n",
            "  adding: content/qat_model_fold7.pkl (deflated 31%)\n",
            "  adding: content/qat_model_fold5.pkl (deflated 31%)\n",
            "  adding: content/qat_model_fold3.pkl (deflated 31%)\n",
            "  adding: content/sample_data/ (stored 0%)\n",
            "  adding: content/sample_data/README.md (deflated 39%)\n",
            "  adding: content/sample_data/anscombe.json (deflated 83%)\n",
            "  adding: content/sample_data/mnist_test.csv (deflated 88%)\n",
            "  adding: content/sample_data/california_housing_train.csv (deflated 79%)\n",
            "  adding: content/sample_data/california_housing_test.csv (deflated 76%)\n",
            "  adding: content/sample_data/mnist_train_small.csv (deflated 88%)\n"
          ]
        },
        {
          "output_type": "display_data",
          "data": {
            "text/plain": [
              "<IPython.core.display.Javascript object>"
            ],
            "application/javascript": [
              "\n",
              "    async function download(id, filename, size) {\n",
              "      if (!google.colab.kernel.accessAllowed) {\n",
              "        return;\n",
              "      }\n",
              "      const div = document.createElement('div');\n",
              "      const label = document.createElement('label');\n",
              "      label.textContent = `Downloading \"${filename}\": `;\n",
              "      div.appendChild(label);\n",
              "      const progress = document.createElement('progress');\n",
              "      progress.max = size;\n",
              "      div.appendChild(progress);\n",
              "      document.body.appendChild(div);\n",
              "\n",
              "      const buffers = [];\n",
              "      let downloaded = 0;\n",
              "\n",
              "      const channel = await google.colab.kernel.comms.open(id);\n",
              "      // Send a message to notify the kernel that we're ready.\n",
              "      channel.send({})\n",
              "\n",
              "      for await (const message of channel.messages) {\n",
              "        // Send a message to notify the kernel that we're ready.\n",
              "        channel.send({})\n",
              "        if (message.buffers) {\n",
              "          for (const buffer of message.buffers) {\n",
              "            buffers.push(buffer);\n",
              "            downloaded += buffer.byteLength;\n",
              "            progress.value = downloaded;\n",
              "          }\n",
              "        }\n",
              "      }\n",
              "      const blob = new Blob(buffers, {type: 'application/binary'});\n",
              "      const a = document.createElement('a');\n",
              "      a.href = window.URL.createObjectURL(blob);\n",
              "      a.download = filename;\n",
              "      div.appendChild(a);\n",
              "      a.click();\n",
              "      div.remove();\n",
              "    }\n",
              "  "
            ]
          },
          "metadata": {}
        },
        {
          "output_type": "display_data",
          "data": {
            "text/plain": [
              "<IPython.core.display.Javascript object>"
            ],
            "application/javascript": [
              "download(\"download_e50b1c61-1bd5-4e5d-8c07-d04260a93d3b\", \"colab_files.zip\", 7797608)"
            ]
          },
          "metadata": {}
        }
      ],
      "source": [
        "!zip -r colab_files.zip /content\n",
        "from google.colab import files\n",
        "files.download('colab_files.zip')"
      ]
    },
    {
      "cell_type": "markdown",
      "source": [
        "###Friedman test"
      ],
      "metadata": {
        "id": "CnVZ-31p08HU"
      },
      "id": "CnVZ-31p08HU"
    },
    {
      "cell_type": "code",
      "source": [],
      "metadata": {
        "id": "Ju3C_VUuzMHp"
      },
      "id": "Ju3C_VUuzMHp",
      "execution_count": null,
      "outputs": []
    }
  ],
  "metadata": {
    "colab": {
      "provenance": []
    },
    "kernelspec": {
      "display_name": "Python 3",
      "language": "python",
      "name": "python3"
    },
    "language_info": {
      "name": "python",
      "version": "3.x"
    }
  },
  "nbformat": 4,
  "nbformat_minor": 5
}